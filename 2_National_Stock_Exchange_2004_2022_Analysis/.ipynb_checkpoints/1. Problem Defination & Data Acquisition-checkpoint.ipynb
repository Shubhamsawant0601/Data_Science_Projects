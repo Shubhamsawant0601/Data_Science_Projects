{
 "cells": [
  {
   "cell_type": "markdown",
   "id": "ad71b0e6-d723-427d-bfd0-2913526fedee",
   "metadata": {},
   "source": [
    "# About Dataset\n",
    "## Context\n",
    "Stock market data is widely analyzed for educational, business and personal interests.\n",
    "\n",
    "## Content\n",
    "The data is the price history and trading volumes of the fifty stocks in the index NIFTY 50 from NSE (National Stock Exchange) India. All datasets are at a day-level with pricing and trading values split across .cvs files for each stock along with a metadata file with some macro-information about the stocks itself. The data spans from 1st January, 2000 to 30th April, 2021."
   ]
  },
  {
   "cell_type": "markdown",
   "id": "cf92164d-e377-48f4-b213-8406d0642848",
   "metadata": {},
   "source": [
    "# Download the dataset with Kaggle API"
   ]
  },
  {
   "cell_type": "code",
   "execution_count": 1,
   "id": "b2baf2d0-0f2c-4d63-8bd7-56ffef04f01f",
   "metadata": {},
   "outputs": [],
   "source": [
    "!pip install opendatasets --upgrade --quiet"
   ]
  },
  {
   "cell_type": "markdown",
   "id": "5d87d9e4-5c33-47b2-8e0c-ff3d1b05d062",
   "metadata": {},
   "source": [
    "# Import Library"
   ]
  },
  {
   "cell_type": "code",
   "execution_count": 2,
   "id": "27062cc3-4669-40a0-be02-499454e7bd1c",
   "metadata": {},
   "outputs": [],
   "source": [
    "import pandas as pd\n",
    "import os\n",
    "import opendatasets as od"
   ]
  },
  {
   "cell_type": "code",
   "execution_count": 3,
   "id": "6d21b655-32a3-4a0e-863d-b3e040be8f24",
   "metadata": {},
   "outputs": [
    {
     "name": "stdout",
     "output_type": "stream",
     "text": [
      "Downloading nifty50-stock-market-data.zip to .\\nifty50-stock-market-data\n"
     ]
    },
    {
     "name": "stderr",
     "output_type": "stream",
     "text": [
      "100%|█████████████████████████████████████████████████████████████████████████████| 18.4M/18.4M [00:16<00:00, 1.14MB/s]\n"
     ]
    },
    {
     "name": "stdout",
     "output_type": "stream",
     "text": [
      "\n"
     ]
    }
   ],
   "source": [
    "# Assign the Kaggle data set URL into variable\n",
    "dataset = 'https://www.kaggle.com/datasets/rohanrao/nifty50-stock-market-data'\n",
    "# Using opendatasets let's download the data sets\n",
    "od.download(dataset)"
   ]
  }
 ],
 "metadata": {
  "kernelspec": {
   "display_name": "Python 3 (ipykernel)",
   "language": "python",
   "name": "python3"
  },
  "language_info": {
   "codemirror_mode": {
    "name": "ipython",
    "version": 3
   },
   "file_extension": ".py",
   "mimetype": "text/x-python",
   "name": "python",
   "nbconvert_exporter": "python",
   "pygments_lexer": "ipython3",
   "version": "3.11.7"
  }
 },
 "nbformat": 4,
 "nbformat_minor": 5
}
