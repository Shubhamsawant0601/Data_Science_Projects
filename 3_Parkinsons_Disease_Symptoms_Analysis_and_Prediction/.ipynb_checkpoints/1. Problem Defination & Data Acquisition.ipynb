{
 "cells": [
  {
   "cell_type": "markdown",
   "id": "daccb71e-7bd8-4371-a484-6de14e1c1a60",
   "metadata": {},
   "source": [
    "# Parkinson's disease \n",
    "Its a neurodegenerative disorder that affects movement. It is characterized by symptoms such as tremors, stiffness, slowness of movement, and impaired balance and coordination. The disease results from the loss of dopamine-producing cells in the brain.\n",
    "\n",
    "Now, let's briefly describe each attribute mentioned in the dataset related to Parkinson's disease:\n",
    "\n",
    "MDVP:Fo(Hz): Fundamental frequency of the voice, representing the average vocal cord vibration rate.\n",
    "\n",
    "MDVP:Fhi(Hz): Highest fundamental frequency of the voice observed.\n",
    "\n",
    "MDVP:Flo(Hz): Lowest fundamental frequency of the voice observed.\n",
    "\n",
    "MDVP:Jitter(%): Variation in the fundamental frequency of the voice, measured as a percentage.\n",
    "\n",
    "MDVP:RAP: Relative Average Perturbation, which quantifies the rapid changes in the fundamental frequency.\n",
    "\n",
    "MDVP:PPQ: Five-point period perturbation quotient, a measure of the period perturbation of the voice signal.\n",
    "\n",
    "Jitter:DDP: Jitter (MDVP:RAP) is doubled, representing the average absolute difference of differences between consecutive periods.\n",
    "\n",
    "MDVP:APQ: Five-point amplitude perturbation quotient, a measure of the amplitude perturbation of the voice signal.\n",
    "\n",
    "NHR: Noise-to-Harmonics Ratio, representing the ratio of noise to harmonics in the voice signal.\n",
    "\n",
    "HNR: Harmonics-to-Noise Ratio, representing the ratio of harmonics to noise in the voice signal.\n",
    "\n",
    "RPDE: Recurrence Period Density Entropy, a measure of the complexity of the voice signal.\n",
    "\n",
    "DFA: Detrended Fluctuation Analysis, quantifying the presence of long-term correlations in the voice signal.\n",
    "\n",
    "spread2: Nonlinear measure of fundamental frequency variation.\n",
    "\n",
    "D2: Correlation dimension, a measure of the complexity of the voice signal.\n",
    "\n",
    "PPE: Pitch Period Entropy, representing the disorder and unpredictability of the voice signal.\n",
    "\n",
    "These attributes are often used as features in machine learning models to predict the presence or progression of Parkinson's disease based on voice recordings. They provide insights into the characteristics of the voice signal and can help in diagnosing and monitoring the disease."
   ]
  },
  {
   "cell_type": "markdown",
   "id": "2fc7db54-36aa-46d5-8dcb-944a693082af",
   "metadata": {},
   "source": [
    "### Download the dataset with Kaggle API"
   ]
  },
  {
   "cell_type": "code",
   "execution_count": 1,
   "id": "ac8fd460",
   "metadata": {},
   "outputs": [],
   "source": [
    "!pip install opendatasets --upgrade --quiet"
   ]
  },
  {
   "cell_type": "markdown",
   "id": "5bb54beb-7d7f-482a-ab6a-c1c9a12feddf",
   "metadata": {},
   "source": [
    "### Import Library"
   ]
  },
  {
   "cell_type": "code",
   "execution_count": 1,
   "id": "1d737564",
   "metadata": {},
   "outputs": [],
   "source": [
    "import pandas as pd\n",
    "import os\n",
    "import opendatasets as od"
   ]
  },
  {
   "cell_type": "code",
   "execution_count": 2,
   "id": "a6173ef0",
   "metadata": {},
   "outputs": [
    {
     "name": "stdout",
     "output_type": "stream",
     "text": [
      "Skipping, found downloaded files in \".\\parkinson-disease-detection\" (use force=True to force download)\n"
     ]
    }
   ],
   "source": [
    "# Assign the Kaggle data set URL into variable\n",
    "dataset = 'https://www.kaggle.com/datasets/debasisdotcom/parkinson-disease-detection'\n",
    "# Using opendatasets let's download the data sets\n",
    "od.download(dataset)"
   ]
  }
 ],
 "metadata": {
  "kernelspec": {
   "display_name": "Python 3 (ipykernel)",
   "language": "python",
   "name": "python3"
  },
  "language_info": {
   "codemirror_mode": {
    "name": "ipython",
    "version": 3
   },
   "file_extension": ".py",
   "mimetype": "text/x-python",
   "name": "python",
   "nbconvert_exporter": "python",
   "pygments_lexer": "ipython3",
   "version": "3.11.7"
  }
 },
 "nbformat": 4,
 "nbformat_minor": 5
}
