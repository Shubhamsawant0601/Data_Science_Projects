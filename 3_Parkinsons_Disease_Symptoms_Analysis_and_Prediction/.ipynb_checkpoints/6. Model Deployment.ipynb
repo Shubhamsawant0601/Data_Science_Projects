{
 "cells": [
  {
   "cell_type": "code",
   "execution_count": 4,
   "id": "9cc84cd8-75aa-41ae-8510-b3345cc4ec5f",
   "metadata": {},
   "outputs": [],
   "source": [
    "import pandas as pd \n",
    "import numpy as np \n",
    "import pickle \n",
    "import streamlit as st \n",
    "from PIL import Image \n",
    "\n",
    "# loading in the model to predict on the data \n",
    "pickle_in = open('parkinsons_model.pkl', 'rb') \n",
    "classifier = pickle.load(pickle_in) \n",
    "\n",
    "def welcome(): \n",
    "\treturn 'welcome all'\n",
    "\n",
    "# defining the function which will make the prediction using \n",
    "# the data which the user inputs \n",
    "def prediction(sepal_length, sepal_width, petal_length, petal_width): \n",
    "\n",
    "\tprediction = classifier.predict( \n",
    "\t\t[[sepal_length, sepal_width, petal_length, petal_width]]) \n",
    "\tprint(prediction) \n",
    "\treturn prediction \n",
    "\t\n",
    "\n",
    "# this is the main function in which we define our webpage \n",
    "def main(): \n",
    "\t# giving the webpage a title \n",
    "\tst.title(\"Iris Flower Prediction\") \n",
    "\t\n",
    "\t# here we define some of the front end elements of the web page like \n",
    "\t# the font and background color, the padding and the text to be displayed \n",
    "\thtml_temp = \"\"\" \n",
    "\t<div style =\"background-color:yellow;padding:13px\"> \n",
    "\t<h1 style =\"color:black;text-align:center;\">Streamlit Iris Flower Classifier ML App </h1> \n",
    "\t</div> \n",
    "\t\"\"\"\n",
    "\t\n",
    "\t# this line allows us to display the front end aspects we have \n",
    "\t# defined in the above code \n",
    "\tst.markdown(html_temp, unsafe_allow_html = True) \n",
    "\t\n",
    "\t# the following lines create text boxes in which the user can enter \n",
    "\t# the data required to make the prediction \n",
    "\tsepal_length = st.text_input(\"Sepal Length\", \"Type Here\") \n",
    "\tsepal_width = st.text_input(\"Sepal Width\", \"Type Here\") \n",
    "\tpetal_length = st.text_input(\"Petal Length\", \"Type Here\") \n",
    "\tpetal_width = st.text_input(\"Petal Width\", \"Type Here\") \n",
    "\tresult =\"\" \n",
    "\t\n",
    "\t# the below line ensures that when the button called 'Predict' is clicked, \n",
    "\t# the prediction function defined above is called to make the prediction \n",
    "\t# and store it in the variable result \n",
    "\tif st.button(\"Predict\"): \n",
    "\t\tresult = prediction(sepal_length, sepal_width, petal_length, petal_width) \n",
    "\tst.success('The output is {}'.format(result)) \n",
    "\t\n",
    "if __name__=='__main__': \n",
    "\tmain() \n"
   ]
  },
  {
   "cell_type": "code",
   "execution_count": 5,
   "id": "6d245ca9-cb69-410e-8eb5-14c0fc9c2885",
   "metadata": {},
   "outputs": [
    {
     "name": "stderr",
     "output_type": "stream",
     "text": [
      "Traceback (most recent call last):\n",
      "  File \"C:\\Users\\shubh\\anaconda3\\Scripts\\streamlit-script.py\", line 6, in <module>\n",
      "    from streamlit.cli import main\n",
      "ModuleNotFoundError: No module named 'streamlit.cli'\n"
     ]
    }
   ],
   "source": [
    "!streamlit run app.py\n"
   ]
  },
  {
   "cell_type": "code",
   "execution_count": null,
   "id": "9bc6fbb4-a1e6-4476-ab0b-ff7c58999ef3",
   "metadata": {},
   "outputs": [],
   "source": []
  }
 ],
 "metadata": {
  "kernelspec": {
   "display_name": "Python 3 (ipykernel)",
   "language": "python",
   "name": "python3"
  },
  "language_info": {
   "codemirror_mode": {
    "name": "ipython",
    "version": 3
   },
   "file_extension": ".py",
   "mimetype": "text/x-python",
   "name": "python",
   "nbconvert_exporter": "python",
   "pygments_lexer": "ipython3",
   "version": "3.11.7"
  }
 },
 "nbformat": 4,
 "nbformat_minor": 5
}
