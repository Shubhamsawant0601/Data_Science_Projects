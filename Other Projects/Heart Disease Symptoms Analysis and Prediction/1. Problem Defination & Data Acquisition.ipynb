{
 "cells": [
  {
   "cell_type": "markdown",
   "id": "4bffab80-cb78-4d35-8046-a6e39d0e7c8c",
   "metadata": {},
   "source": [
    "## About Dataset\n",
    "### Context\n",
    "This data set dates from 1988 and consists of four databases: Cleveland, Hungary, Switzerland, and Long Beach V. It contains 76 attributes, including the predicted attribute, but all published experiments refer to using a subset of 14 of them. The \"target\" field refers to the presence of heart disease in the patient. It is integer valued 0 = no disease and 1 = disease.\n",
    "age\r\n",
    "sex\r\n",
    "chest pain type (4 values)\r\n",
    "resting blood pressure\r\n",
    "serum cholestoral in mg/dl\r\n",
    "fasting blood sugar > 120 mg/dl\r\n",
    "resting electrocardiographic results (values  ,1,2)\r\n",
    "maximum heart rate a hieved\r\n",
    "exercise induced angina\r\n",
    "oldpeak = ST depression induced by exercise relative to rest\r\n",
    "the slope of the peak exercise ST segment\r\n",
    "number of major vessels (0-3) colored by flourosopy\r\n",
    "thal: 0 = normal; 1 = fixed defect; 2 = rever\n",
    "sable defect\r\n",
    "The names and social security numbers of the patients were recently removed from the database, replaced with dummy values."
   ]
  },
  {
   "cell_type": "markdown",
   "id": "5c4d19d5-7e39-40d3-82af-c8b0ab74f636",
   "metadata": {},
   "source": [
    "## Download the dataset with Kaggle API"
   ]
  },
  {
   "cell_type": "code",
   "execution_count": 1,
   "id": "f1e3bdb8-a0eb-4778-b6ef-7828f2139715",
   "metadata": {},
   "outputs": [],
   "source": [
    "!pip install opendatasets --upgrade --quiet"
   ]
  },
  {
   "cell_type": "markdown",
   "id": "643bc4e3-e05a-487a-941b-2245d8a84724",
   "metadata": {},
   "source": [
    "## Import Library"
   ]
  },
  {
   "cell_type": "code",
   "execution_count": 2,
   "id": "2dcc46bd-00c8-456b-b5d3-c9a0574932f3",
   "metadata": {},
   "outputs": [],
   "source": [
    "import pandas as pd\n",
    "import os\n",
    "import opendatasets as od"
   ]
  },
  {
   "cell_type": "code",
   "execution_count": 6,
   "id": "ec7cd5ad-0f0c-4d4e-b70d-d6a912ccc010",
   "metadata": {},
   "outputs": [
    {
     "name": "stdout",
     "output_type": "stream",
     "text": [
      "Skipping, found downloaded files in \".\\heart-disease-dataset\" (use force=True to force download)\n"
     ]
    }
   ],
   "source": [
    "# Assign the Kaggle data set URL into variable\n",
    "dataset = 'https://www.kaggle.com/datasets/johnsmith88/heart-disease-dataset/data'\n",
    "# Using opendatasets let's download the data sets\n",
    "od.download(dataset)"
   ]
  },
  {
   "cell_type": "code",
   "execution_count": null,
   "id": "5c808c94-5fea-485b-b1f5-d6e13a0a7997",
   "metadata": {},
   "outputs": [],
   "source": []
  }
 ],
 "metadata": {
  "kernelspec": {
   "display_name": "Python 3 (ipykernel)",
   "language": "python",
   "name": "python3"
  },
  "language_info": {
   "codemirror_mode": {
    "name": "ipython",
    "version": 3
   },
   "file_extension": ".py",
   "mimetype": "text/x-python",
   "name": "python",
   "nbconvert_exporter": "python",
   "pygments_lexer": "ipython3",
   "version": "3.11.7"
  }
 },
 "nbformat": 4,
 "nbformat_minor": 5
}
